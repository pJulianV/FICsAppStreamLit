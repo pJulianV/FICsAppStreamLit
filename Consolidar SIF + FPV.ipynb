{
 "cells": [
  {
   "cell_type": "code",
   "execution_count": 1,
   "metadata": {},
   "outputs": [],
   "source": [
    "import shutil\n",
    "import numpy as np                                                     #Algebra lineal\n",
    "import pandas as pd                                                    #Manejo de excel\n",
    "from datetime import datetime                                          #Fechas\n",
    "from dateutil.relativedelta import relativedelta                       #Retornos\n",
    "from datetime import timedelta                                         #Manejo de fechas\n",
    "import win32com.client                                              #especificaciones de office\n",
    "import os                                                              #working directory\n",
    "import glob                                                            #enumerar archivos en ruta\n",
    "from datetime import date, datetime, time\n",
    "from babel.dates import format_date, format_datetime, format_time\n",
    "import time\n",
    "import locale\n",
    "import win32com.client\n",
    "import subprocess\n",
    "import sys\n",
    "from pandas import DataFrame\n",
    "import xlrd\n",
    "import os.path, time\n",
    "from openpyxl import load_workbook\n",
    "import pandas\n",
    "import PySimpleGUI as sg\n",
    "import getpass\n",
    "from tkinter import messagebox\n",
    "from openpyxl import load_workbook\n",
    "from collections import Counter\n",
    "import matplotlib.pyplot as plt\n",
    "import math\n",
    "import plotly.express as px\n",
    "import os\n",
    "from openpyxl import load_workbook\n",
    "from datetime import datetime\n",
    "import datetime, calendar\n",
    "from pandas.tseries.offsets import MonthEnd\n",
    "import getpass"
   ]
  },
  {
   "cell_type": "code",
   "execution_count": 2,
   "metadata": {},
   "outputs": [],
   "source": [
    "#RUTAS#\n",
    "\n",
    "RutaPeers = \"C:/Users/andramos/OneDrive - Grupo Bancolombia/Documentos compartidos/INFORMACION GENERAL ASSET MANAGEMENT/FONDOS DE INVERSION/INFORME DE COMPETENCIA/\"\n",
    "RutaSIF = \"C:/Users/andramos/OneDrive - Grupo Bancolombia/Documentos compartidos/INFORMACION GENERAL ASSET MANAGEMENT/FONDOS DE INVERSION/SUPERINTENDENCIA/\"\n",
    "RutaFPV = \"C:/Users/andramos/OneDrive - Grupo Bancolombia/Documentos compartidos/INFORMACION GENERAL ASSET MANAGEMENT/FONDOS DE INVERSION/PENSIONES VOLUNTARIAS/\"\n",
    "RutaAssetClass= \"C:/Users/andramos/OneDrive - Grupo Bancolombia/Documentos compartidos/MARKET SHARE/\"\n"
   ]
  },
  {
   "cell_type": "code",
   "execution_count": 3,
   "metadata": {},
   "outputs": [
    {
     "name": "stdout",
     "output_type": "stream",
     "text": [
      "['2018', '2019', '2020', '2021', '2022', '2023']\n"
     ]
    }
   ],
   "source": [
    "#AÑOS#\n",
    "from datetime import datetime\n",
    "now = datetime.now()\n",
    "año_final = now.year\n",
    "año_inicial =año_final-5\n",
    "\n",
    "lista_fechas = [str(año_inicial),str(año_inicial+1),str(año_inicial+2),str(año_inicial+3),str(año_inicial+4),str(año_inicial+5)]\n",
    "print(lista_fechas)\n"
   ]
  },
  {
   "cell_type": "code",
   "execution_count": 4,
   "metadata": {},
   "outputs": [
    {
     "name": "stdout",
     "output_type": "stream",
     "text": [
      "SIF_BD_2018.xlsx\n",
      "SIF_BD_2019.xlsx\n",
      "SIF_BD_2020.xlsx\n",
      "SIF_BD_2021.xlsx\n",
      "SIF_BD_2022.xlsx\n",
      "SIF_BD_2023.xlsx\n"
     ]
    }
   ],
   "source": [
    "#uno las 6 bases de datos de las superintendencia para tener historia#\n",
    "basecompletaSIF=pd.DataFrame()\n",
    "\n",
    "for i in range(0,len(lista_fechas)):\n",
    "        consolidado = pd.read_excel(RutaSIF+\"SIF_BD_\"+ lista_fechas[i] +\".xlsx\")\n",
    "        consolidado1 = consolidado[[\"concatenar\",\"Fecha corte\",\"Nombre Entidad\",\"Nombre Negocio\",\"Valor unidad para las operaciones del día t\",\"Valor fondo al cierre del día t\",\"Núm. Invers.\"]]\n",
    "        basecompletaSIF=basecompletaSIF.append(consolidado1,ignore_index=True)\n",
    "        print(\"SIF_BD_\"+ lista_fechas[i]+\".xlsx\")"
   ]
  },
  {
   "cell_type": "code",
   "execution_count": 5,
   "metadata": {
    "scrolled": true
   },
   "outputs": [
    {
     "name": "stdout",
     "output_type": "stream",
     "text": [
      "FPV 2018.xlsx\n",
      "FPV 2019.xlsx\n",
      "FPV 2020.xlsx\n",
      "FPV 2021.xlsx\n",
      "FPV 2022.xlsx\n",
      "FPV 2023.xlsx\n"
     ]
    },
    {
     "data": {
      "text/html": [
       "<div>\n",
       "<style scoped>\n",
       "    .dataframe tbody tr th:only-of-type {\n",
       "        vertical-align: middle;\n",
       "    }\n",
       "\n",
       "    .dataframe tbody tr th {\n",
       "        vertical-align: top;\n",
       "    }\n",
       "\n",
       "    .dataframe thead th {\n",
       "        text-align: right;\n",
       "    }\n",
       "</style>\n",
       "<table border=\"1\" class=\"dataframe\">\n",
       "  <thead>\n",
       "    <tr style=\"text-align: right;\">\n",
       "      <th></th>\n",
       "      <th>FECHA_CORTE</th>\n",
       "      <th>NOMBRE_ENTIDAD</th>\n",
       "      <th>NOMBRE_PATRIMONIO</th>\n",
       "      <th>VALOR_UNIDAD_OPERACIONES_DIA_T_VALOR_PESOS</th>\n",
       "      <th>VALOR_FONDO_CIERRE_DIA_T_ANTERIOR_N_UNIDADES</th>\n",
       "    </tr>\n",
       "  </thead>\n",
       "  <tbody>\n",
       "    <tr>\n",
       "      <th>0</th>\n",
       "      <td>2018-01-01</td>\n",
       "      <td>Alianza Fiduciaria S.A.</td>\n",
       "      <td>FONDO DE PENSIONES DE JUBILACION E INVALIDEZ V...</td>\n",
       "      <td>18686.46</td>\n",
       "      <td>24701268.39</td>\n",
       "    </tr>\n",
       "    <tr>\n",
       "      <th>1</th>\n",
       "      <td>2018-01-01</td>\n",
       "      <td>Alianza Fiduciaria S.A.</td>\n",
       "      <td>ACCIONES ECOPETROL</td>\n",
       "      <td>16154.10</td>\n",
       "      <td>4060.95</td>\n",
       "    </tr>\n",
       "    <tr>\n",
       "      <th>2</th>\n",
       "      <td>2018-01-01</td>\n",
       "      <td>Alianza Fiduciaria S.A.</td>\n",
       "      <td>OPCION ACTIVOS INMOBILIARIOS DLLE</td>\n",
       "      <td>7627.19</td>\n",
       "      <td>61697.99</td>\n",
       "    </tr>\n",
       "    <tr>\n",
       "      <th>3</th>\n",
       "      <td>2018-01-01</td>\n",
       "      <td>Alianza Fiduciaria S.A.</td>\n",
       "      <td>PARTE COMUN</td>\n",
       "      <td>26912.22</td>\n",
       "      <td>11592626.30</td>\n",
       "    </tr>\n",
       "    <tr>\n",
       "      <th>4</th>\n",
       "      <td>2018-01-01</td>\n",
       "      <td>Alianza Fiduciaria S.A.</td>\n",
       "      <td>OPCION CERRADA PENSIONALES 5 COLOMIBA</td>\n",
       "      <td>26146.75</td>\n",
       "      <td>2169.11</td>\n",
       "    </tr>\n",
       "    <tr>\n",
       "      <th>...</th>\n",
       "      <td>...</td>\n",
       "      <td>...</td>\n",
       "      <td>...</td>\n",
       "      <td>...</td>\n",
       "      <td>...</td>\n",
       "    </tr>\n",
       "    <tr>\n",
       "      <th>799683</th>\n",
       "      <td>2023-06-06</td>\n",
       "      <td>Colfondos S.A. Pensiones Y Cesantias</td>\n",
       "      <td>CLASS CERRADO RENTA FIJA AGOSTO 2023</td>\n",
       "      <td>10479.31</td>\n",
       "      <td>1684682.01</td>\n",
       "    </tr>\n",
       "    <tr>\n",
       "      <th>799684</th>\n",
       "      <td>2023-06-06</td>\n",
       "      <td>Colfondos S.A. Pensiones Y Cesantias</td>\n",
       "      <td>CLASS CERRADO RENTA FIJA AGOSTO 18M 2024</td>\n",
       "      <td>10209.04</td>\n",
       "      <td>306567.94</td>\n",
       "    </tr>\n",
       "    <tr>\n",
       "      <th>799685</th>\n",
       "      <td>2023-06-06</td>\n",
       "      <td>Colfondos S.A. Pensiones Y Cesantias</td>\n",
       "      <td>CLASS CERRADO RENTA FIJA SEPTIEMBRE 6M 2023</td>\n",
       "      <td>10161.82</td>\n",
       "      <td>709884.36</td>\n",
       "    </tr>\n",
       "    <tr>\n",
       "      <th>799686</th>\n",
       "      <td>2023-06-06</td>\n",
       "      <td>Colfondos S.A. Pensiones Y Cesantias</td>\n",
       "      <td>CLASS CERRADO RENTA FIJA ABRIL 2024</td>\n",
       "      <td>10018.63</td>\n",
       "      <td>687225.69</td>\n",
       "    </tr>\n",
       "    <tr>\n",
       "      <th>799687</th>\n",
       "      <td>2023-06-06</td>\n",
       "      <td>Colfondos S.A. Pensiones Y Cesantias</td>\n",
       "      <td>CLASS CERRADO RENTA FIJA SEPTIEMBRE 2024</td>\n",
       "      <td>10141.08</td>\n",
       "      <td>148846.47</td>\n",
       "    </tr>\n",
       "  </tbody>\n",
       "</table>\n",
       "<p>799688 rows × 5 columns</p>\n",
       "</div>"
      ],
      "text/plain": [
       "       FECHA_CORTE                        NOMBRE_ENTIDAD  \\\n",
       "0       2018-01-01               Alianza Fiduciaria S.A.   \n",
       "1       2018-01-01               Alianza Fiduciaria S.A.   \n",
       "2       2018-01-01               Alianza Fiduciaria S.A.   \n",
       "3       2018-01-01               Alianza Fiduciaria S.A.   \n",
       "4       2018-01-01               Alianza Fiduciaria S.A.   \n",
       "...            ...                                   ...   \n",
       "799683  2023-06-06  Colfondos S.A. Pensiones Y Cesantias   \n",
       "799684  2023-06-06  Colfondos S.A. Pensiones Y Cesantias   \n",
       "799685  2023-06-06  Colfondos S.A. Pensiones Y Cesantias   \n",
       "799686  2023-06-06  Colfondos S.A. Pensiones Y Cesantias   \n",
       "799687  2023-06-06  Colfondos S.A. Pensiones Y Cesantias   \n",
       "\n",
       "                                        NOMBRE_PATRIMONIO  \\\n",
       "0       FONDO DE PENSIONES DE JUBILACION E INVALIDEZ V...   \n",
       "1                                      ACCIONES ECOPETROL   \n",
       "2                       OPCION ACTIVOS INMOBILIARIOS DLLE   \n",
       "3                                             PARTE COMUN   \n",
       "4                   OPCION CERRADA PENSIONALES 5 COLOMIBA   \n",
       "...                                                   ...   \n",
       "799683               CLASS CERRADO RENTA FIJA AGOSTO 2023   \n",
       "799684           CLASS CERRADO RENTA FIJA AGOSTO 18M 2024   \n",
       "799685        CLASS CERRADO RENTA FIJA SEPTIEMBRE 6M 2023   \n",
       "799686                CLASS CERRADO RENTA FIJA ABRIL 2024   \n",
       "799687           CLASS CERRADO RENTA FIJA SEPTIEMBRE 2024   \n",
       "\n",
       "        VALOR_UNIDAD_OPERACIONES_DIA_T_VALOR_PESOS  \\\n",
       "0                                         18686.46   \n",
       "1                                         16154.10   \n",
       "2                                          7627.19   \n",
       "3                                         26912.22   \n",
       "4                                         26146.75   \n",
       "...                                            ...   \n",
       "799683                                    10479.31   \n",
       "799684                                    10209.04   \n",
       "799685                                    10161.82   \n",
       "799686                                    10018.63   \n",
       "799687                                    10141.08   \n",
       "\n",
       "        VALOR_FONDO_CIERRE_DIA_T_ANTERIOR_N_UNIDADES  \n",
       "0                                        24701268.39  \n",
       "1                                            4060.95  \n",
       "2                                           61697.99  \n",
       "3                                        11592626.30  \n",
       "4                                            2169.11  \n",
       "...                                              ...  \n",
       "799683                                    1684682.01  \n",
       "799684                                     306567.94  \n",
       "799685                                     709884.36  \n",
       "799686                                     687225.69  \n",
       "799687                                     148846.47  \n",
       "\n",
       "[799688 rows x 5 columns]"
      ]
     },
     "execution_count": 5,
     "metadata": {},
     "output_type": "execute_result"
    }
   ],
   "source": [
    "#uno las 6 bases de datos de los fondos de pensiones voluntarias para tener historia#\n",
    "basecompletaFPV=pd.DataFrame()\n",
    "\n",
    "for i in range(0,len(lista_fechas)):\n",
    "        consolidado = pd.read_excel(RutaFPV+\"FPV \"+ lista_fechas[i] +\".xlsx\")\n",
    "        consolidado1 = consolidado[[\"FECHA_CORTE\",\"NOMBRE_ENTIDAD\",\"NOMBRE_PATRIMONIO\",\"VALOR_UNIDAD_OPERACIONES_DIA_T_VALOR_PESOS\",\"VALOR_FONDO_CIERRE_DIA_T_ANTERIOR_N_UNIDADES\"]]\n",
    "        basecompletaFPV=basecompletaFPV.append(consolidado1,ignore_index=True)\n",
    "        print(\"FPV \"+ lista_fechas[i]+\".xlsx\")\n",
    "basecompletaFPV"
   ]
  },
  {
   "cell_type": "code",
   "execution_count": 6,
   "metadata": {},
   "outputs": [],
   "source": [
    "#leo la base que contiene la lista de fondos a incluir en el informe#\n",
    "BDpeers = pd.read_excel(RutaPeers+\"LISTA DE FONDOS.xlsx\")\n",
    "BDpeers = BDpeers[\"Nombre Negocio en SIF\"]\n"
   ]
  },
  {
   "cell_type": "code",
   "execution_count": 7,
   "metadata": {},
   "outputs": [
    {
     "data": {
      "text/plain": [
       "'FONDO DE INVERSION COLECTIVA SUPERIOR '"
      ]
     },
     "execution_count": 7,
     "metadata": {},
     "output_type": "execute_result"
    }
   ],
   "source": [
    "BDpeers[67]"
   ]
  },
  {
   "cell_type": "code",
   "execution_count": 8,
   "metadata": {},
   "outputs": [],
   "source": [
    "#leo la base de datos de asset class y exporto los fondos que necesito#\n",
    "BDassetclass = pd.read_excel(RutaAssetClass+\"BD ASSET CLASS.xlsx\")\n",
    "BDassetclass = BDassetclass[[\"concatenar\",\"Nombre Entidad\",\"Nombre Negocio\",\"ASSET CLASS\",\"Tipo de participación\",\"explicación tipo de cliente\"]]\n",
    "BDassetclass = BDassetclass[BDassetclass[\"Nombre Negocio\"].isin(BDpeers)]\n"
   ]
  },
  {
   "cell_type": "markdown",
   "metadata": {},
   "source": [
    "#Prueba"
   ]
  },
  {
   "cell_type": "code",
   "execution_count": 9,
   "metadata": {},
   "outputs": [],
   "source": [
    "BDassetclass.to_excel(RutaPeers+\"BDAssetClass.xlsx\",index=False)"
   ]
  },
  {
   "cell_type": "code",
   "execution_count": 10,
   "metadata": {},
   "outputs": [],
   "source": [
    "#filtro las bases, por los fondos que tengo en el numeral anterior#\n",
    "BDinformeSIF = basecompletaSIF[basecompletaSIF[\"Nombre Negocio\"].isin(BDpeers)]\n",
    "BDinformeFPV = basecompletaFPV[basecompletaFPV[\"NOMBRE_PATRIMONIO\"].isin(BDpeers)]"
   ]
  },
  {
   "cell_type": "code",
   "execution_count": 11,
   "metadata": {},
   "outputs": [
    {
     "data": {
      "text/html": [
       "<div>\n",
       "<style scoped>\n",
       "    .dataframe tbody tr th:only-of-type {\n",
       "        vertical-align: middle;\n",
       "    }\n",
       "\n",
       "    .dataframe tbody tr th {\n",
       "        vertical-align: top;\n",
       "    }\n",
       "\n",
       "    .dataframe thead th {\n",
       "        text-align: right;\n",
       "    }\n",
       "</style>\n",
       "<table border=\"1\" class=\"dataframe\">\n",
       "  <thead>\n",
       "    <tr style=\"text-align: right;\">\n",
       "      <th></th>\n",
       "      <th>concatenar</th>\n",
       "      <th>Fecha corte</th>\n",
       "      <th>Nombre Entidad</th>\n",
       "      <th>Nombre Negocio</th>\n",
       "      <th>Valor unidad para las operaciones del día t</th>\n",
       "      <th>Valor fondo al cierre del día t</th>\n",
       "      <th>Núm. Invers.</th>\n",
       "    </tr>\n",
       "  </thead>\n",
       "  <tbody>\n",
       "    <tr>\n",
       "      <th>219</th>\n",
       "      <td>FIDUCIARIA DAVIVIENDAFONDO DE INVERSION COLECT...</td>\n",
       "      <td>2018-01-01</td>\n",
       "      <td>FIDUCIARIA DAVIVIENDA</td>\n",
       "      <td>FONDO DE INVERSION COLECTIVA SUPERIOR</td>\n",
       "      <td>7323.18</td>\n",
       "      <td>9.080573e+09</td>\n",
       "      <td>6</td>\n",
       "    </tr>\n",
       "    <tr>\n",
       "      <th>220</th>\n",
       "      <td>FIDUCIARIA DAVIVIENDAFONDO DE INVERSION COLECT...</td>\n",
       "      <td>2018-01-01</td>\n",
       "      <td>FIDUCIARIA DAVIVIENDA</td>\n",
       "      <td>FONDO DE INVERSION COLECTIVA SUPERIOR</td>\n",
       "      <td>7247.23</td>\n",
       "      <td>2.735704e+10</td>\n",
       "      <td>5</td>\n",
       "    </tr>\n",
       "    <tr>\n",
       "      <th>221</th>\n",
       "      <td>FIDUCIARIA DAVIVIENDAFONDO DE INVERSION COLECT...</td>\n",
       "      <td>2018-01-01</td>\n",
       "      <td>FIDUCIARIA DAVIVIENDA</td>\n",
       "      <td>FONDO DE INVERSION COLECTIVA SUPERIOR</td>\n",
       "      <td>6810.88</td>\n",
       "      <td>7.875242e+10</td>\n",
       "      <td>3</td>\n",
       "    </tr>\n",
       "    <tr>\n",
       "      <th>222</th>\n",
       "      <td>FIDUCIARIA DAVIVIENDAFONDO DE INVERSION COLECT...</td>\n",
       "      <td>2018-01-01</td>\n",
       "      <td>FIDUCIARIA DAVIVIENDA</td>\n",
       "      <td>FONDO DE INVERSION COLECTIVA SUPERIOR</td>\n",
       "      <td>7359.88</td>\n",
       "      <td>9.500914e+10</td>\n",
       "      <td>44</td>\n",
       "    </tr>\n",
       "    <tr>\n",
       "      <th>223</th>\n",
       "      <td>FIDUCIARIA DAVIVIENDAFONDO DE INVERSION COLECT...</td>\n",
       "      <td>2018-01-01</td>\n",
       "      <td>FIDUCIARIA DAVIVIENDA</td>\n",
       "      <td>FONDO DE INVERSION COLECTIVA SUPERIOR</td>\n",
       "      <td>7289.94</td>\n",
       "      <td>1.186791e+11</td>\n",
       "      <td>147</td>\n",
       "    </tr>\n",
       "    <tr>\n",
       "      <th>...</th>\n",
       "      <td>...</td>\n",
       "      <td>...</td>\n",
       "      <td>...</td>\n",
       "      <td>...</td>\n",
       "      <td>...</td>\n",
       "      <td>...</td>\n",
       "      <td>...</td>\n",
       "    </tr>\n",
       "    <tr>\n",
       "      <th>1135668</th>\n",
       "      <td>FIDUCIARIA DAVIVIENDAFONDO DE INVERSION COLECT...</td>\n",
       "      <td>2023-06-08</td>\n",
       "      <td>FIDUCIARIA DAVIVIENDA</td>\n",
       "      <td>FONDO DE INVERSION COLECTIVA SUPERIOR</td>\n",
       "      <td>9575.69</td>\n",
       "      <td>5.253333e+10</td>\n",
       "      <td>30</td>\n",
       "    </tr>\n",
       "    <tr>\n",
       "      <th>1135669</th>\n",
       "      <td>FIDUCIARIA DAVIVIENDAFONDO DE INVERSION COLECT...</td>\n",
       "      <td>2023-06-09</td>\n",
       "      <td>FIDUCIARIA DAVIVIENDA</td>\n",
       "      <td>FONDO DE INVERSION COLECTIVA SUPERIOR</td>\n",
       "      <td>9579.52</td>\n",
       "      <td>5.275436e+10</td>\n",
       "      <td>30</td>\n",
       "    </tr>\n",
       "    <tr>\n",
       "      <th>1135670</th>\n",
       "      <td>FIDUCIARIA DAVIVIENDAFONDO DE INVERSION COLECT...</td>\n",
       "      <td>2023-06-10</td>\n",
       "      <td>FIDUCIARIA DAVIVIENDA</td>\n",
       "      <td>FONDO DE INVERSION COLECTIVA SUPERIOR</td>\n",
       "      <td>9582.66</td>\n",
       "      <td>5.277161e+10</td>\n",
       "      <td>30</td>\n",
       "    </tr>\n",
       "    <tr>\n",
       "      <th>1135671</th>\n",
       "      <td>FIDUCIARIA DAVIVIENDAFONDO DE INVERSION COLECT...</td>\n",
       "      <td>2023-06-11</td>\n",
       "      <td>FIDUCIARIA DAVIVIENDA</td>\n",
       "      <td>FONDO DE INVERSION COLECTIVA SUPERIOR</td>\n",
       "      <td>9585.79</td>\n",
       "      <td>5.278886e+10</td>\n",
       "      <td>30</td>\n",
       "    </tr>\n",
       "    <tr>\n",
       "      <th>1135672</th>\n",
       "      <td>FIDUCIARIA DAVIVIENDAFONDO DE INVERSION COLECT...</td>\n",
       "      <td>2023-06-12</td>\n",
       "      <td>FIDUCIARIA DAVIVIENDA</td>\n",
       "      <td>FONDO DE INVERSION COLECTIVA SUPERIOR</td>\n",
       "      <td>9588.92</td>\n",
       "      <td>5.280611e+10</td>\n",
       "      <td>30</td>\n",
       "    </tr>\n",
       "  </tbody>\n",
       "</table>\n",
       "<p>13506 rows × 7 columns</p>\n",
       "</div>"
      ],
      "text/plain": [
       "                                                concatenar Fecha corte  \\\n",
       "219      FIDUCIARIA DAVIVIENDAFONDO DE INVERSION COLECT...  2018-01-01   \n",
       "220      FIDUCIARIA DAVIVIENDAFONDO DE INVERSION COLECT...  2018-01-01   \n",
       "221      FIDUCIARIA DAVIVIENDAFONDO DE INVERSION COLECT...  2018-01-01   \n",
       "222      FIDUCIARIA DAVIVIENDAFONDO DE INVERSION COLECT...  2018-01-01   \n",
       "223      FIDUCIARIA DAVIVIENDAFONDO DE INVERSION COLECT...  2018-01-01   \n",
       "...                                                    ...         ...   \n",
       "1135668  FIDUCIARIA DAVIVIENDAFONDO DE INVERSION COLECT...  2023-06-08   \n",
       "1135669  FIDUCIARIA DAVIVIENDAFONDO DE INVERSION COLECT...  2023-06-09   \n",
       "1135670  FIDUCIARIA DAVIVIENDAFONDO DE INVERSION COLECT...  2023-06-10   \n",
       "1135671  FIDUCIARIA DAVIVIENDAFONDO DE INVERSION COLECT...  2023-06-11   \n",
       "1135672  FIDUCIARIA DAVIVIENDAFONDO DE INVERSION COLECT...  2023-06-12   \n",
       "\n",
       "                Nombre Entidad                          Nombre Negocio  \\\n",
       "219      FIDUCIARIA DAVIVIENDA  FONDO DE INVERSION COLECTIVA SUPERIOR    \n",
       "220      FIDUCIARIA DAVIVIENDA  FONDO DE INVERSION COLECTIVA SUPERIOR    \n",
       "221      FIDUCIARIA DAVIVIENDA  FONDO DE INVERSION COLECTIVA SUPERIOR    \n",
       "222      FIDUCIARIA DAVIVIENDA  FONDO DE INVERSION COLECTIVA SUPERIOR    \n",
       "223      FIDUCIARIA DAVIVIENDA  FONDO DE INVERSION COLECTIVA SUPERIOR    \n",
       "...                        ...                                     ...   \n",
       "1135668  FIDUCIARIA DAVIVIENDA  FONDO DE INVERSION COLECTIVA SUPERIOR    \n",
       "1135669  FIDUCIARIA DAVIVIENDA  FONDO DE INVERSION COLECTIVA SUPERIOR    \n",
       "1135670  FIDUCIARIA DAVIVIENDA  FONDO DE INVERSION COLECTIVA SUPERIOR    \n",
       "1135671  FIDUCIARIA DAVIVIENDA  FONDO DE INVERSION COLECTIVA SUPERIOR    \n",
       "1135672  FIDUCIARIA DAVIVIENDA  FONDO DE INVERSION COLECTIVA SUPERIOR    \n",
       "\n",
       "         Valor unidad para las operaciones del día t  \\\n",
       "219                                          7323.18   \n",
       "220                                          7247.23   \n",
       "221                                          6810.88   \n",
       "222                                          7359.88   \n",
       "223                                          7289.94   \n",
       "...                                              ...   \n",
       "1135668                                      9575.69   \n",
       "1135669                                      9579.52   \n",
       "1135670                                      9582.66   \n",
       "1135671                                      9585.79   \n",
       "1135672                                      9588.92   \n",
       "\n",
       "         Valor fondo al cierre del día t  Núm. Invers.  \n",
       "219                         9.080573e+09             6  \n",
       "220                         2.735704e+10             5  \n",
       "221                         7.875242e+10             3  \n",
       "222                         9.500914e+10            44  \n",
       "223                         1.186791e+11           147  \n",
       "...                                  ...           ...  \n",
       "1135668                     5.253333e+10            30  \n",
       "1135669                     5.275436e+10            30  \n",
       "1135670                     5.277161e+10            30  \n",
       "1135671                     5.278886e+10            30  \n",
       "1135672                     5.280611e+10            30  \n",
       "\n",
       "[13506 rows x 7 columns]"
      ]
     },
     "execution_count": 11,
     "metadata": {},
     "output_type": "execute_result"
    }
   ],
   "source": [
    "BDassetclassprueba=basecompletaSIF[(basecompletaSIF['Nombre Negocio']==\"FONDO DE INVERSION COLECTIVA SUPERIOR \" )]\n",
    "BDassetclassprueba"
   ]
  },
  {
   "cell_type": "code",
   "execution_count": 12,
   "metadata": {},
   "outputs": [
    {
     "name": "stderr",
     "output_type": "stream",
     "text": [
      "<ipython-input-12-81a7dc07c9e7>:3: SettingWithCopyWarning: \n",
      "A value is trying to be set on a copy of a slice from a DataFrame.\n",
      "Try using .loc[row_indexer,col_indexer] = value instead\n",
      "\n",
      "See the caveats in the documentation: https://pandas.pydata.org/pandas-docs/stable/user_guide/indexing.html#returning-a-view-versus-a-copy\n",
      "  BDinformeFPV['concatenar'] = BDinformeFPV['NOMBRE_PATRIMONIO']\n",
      "<ipython-input-12-81a7dc07c9e7>:4: SettingWithCopyWarning: \n",
      "A value is trying to be set on a copy of a slice from a DataFrame.\n",
      "Try using .loc[row_indexer,col_indexer] = value instead\n",
      "\n",
      "See the caveats in the documentation: https://pandas.pydata.org/pandas-docs/stable/user_guide/indexing.html#returning-a-view-versus-a-copy\n",
      "  BDinformeFPV[\"Núm. Invers.\"] = \"\"\n"
     ]
    }
   ],
   "source": [
    "#creo columnas para que las matrices tengan el mismo tamaño#\n",
    "BDinformeFPV.insert(0,'concatenar',\"\")\n",
    "BDinformeFPV['concatenar'] = BDinformeFPV['NOMBRE_PATRIMONIO']\n",
    "BDinformeFPV[\"Núm. Invers.\"] = \"\""
   ]
  },
  {
   "cell_type": "code",
   "execution_count": 13,
   "metadata": {},
   "outputs": [],
   "source": [
    "#cambio el nombre de las columnas#\n",
    "BDinformeFPV.columns = [\"concatenar\",\"Fecha corte\",\"Nombre Entidad\",\"Nombre Negocio\",\"Valor unidad para las operaciones del día t\",\"Valor fondo al cierre del día t\",\"Núm. Invers.\"]\n",
    "#BDinformedefFPV.to_excel(RutaPeers+\"BDFPV.xlsx\",index=False)"
   ]
  },
  {
   "cell_type": "code",
   "execution_count": 14,
   "metadata": {},
   "outputs": [],
   "source": [
    "#exporto la base definitiva#\n",
    "BDTotal=BDinformeSIF.append(BDinformeFPV,ignore_index=True)\n",
    "BDTotal.sort_values(['concatenar','Fecha corte'])\n",
    "BDTotal.to_excel(RutaPeers+\"BDTotal.xlsx\",index=False)"
   ]
  },
  {
   "cell_type": "code",
   "execution_count": 15,
   "metadata": {},
   "outputs": [],
   "source": [
    "#contruyo base de datos con valores de unidad por fondo#\n",
    "\n",
    "BD_VU = BDTotal.pivot_table(index='Fecha corte'\n",
    "                             ,values='Valor unidad para las operaciones del día t'\n",
    "                             ,columns=['concatenar']\n",
    "                             ,aggfunc='sum')\n",
    "\n",
    "#BD_VU.head(2)\n"
   ]
  },
  {
   "cell_type": "code",
   "execution_count": 16,
   "metadata": {},
   "outputs": [
    {
     "name": "stdout",
     "output_type": "stream",
     "text": [
      "<class 'pandas.core.frame.DataFrame'>\n"
     ]
    }
   ],
   "source": [
    "print(type(BD_VU))\n",
    "BD_VU = BD_VU.fillna(0)\n",
    "BD_VU.to_excel(RutaPeers+\"BD_VU.xlsx\",index=True)"
   ]
  },
  {
   "cell_type": "code",
   "execution_count": 17,
   "metadata": {},
   "outputs": [],
   "source": [
    "#len(BD_VU)"
   ]
  },
  {
   "cell_type": "code",
   "execution_count": 18,
   "metadata": {},
   "outputs": [],
   "source": [
    "def rent_diaria(a,b):\n",
    "    try:\n",
    "        res=(b/a)-1\n",
    "    except:\n",
    "        res=(np.nan)\n",
    "    return res"
   ]
  },
  {
   "cell_type": "code",
   "execution_count": 19,
   "metadata": {},
   "outputs": [],
   "source": [
    "BDrent_diaria = pd.DataFrame(\n",
    "    index = BD_VU.index.tolist(),\n",
    "    columns = BD_VU.columns.tolist())"
   ]
  },
  {
   "cell_type": "code",
   "execution_count": 20,
   "metadata": {
    "scrolled": true
   },
   "outputs": [
    {
     "name": "stderr",
     "output_type": "stream",
     "text": [
      "<ipython-input-18-8865352d37c8>:3: RuntimeWarning: invalid value encountered in double_scalars\n",
      "  res=(b/a)-1\n",
      "<ipython-input-18-8865352d37c8>:3: RuntimeWarning: divide by zero encountered in double_scalars\n",
      "  res=(b/a)-1\n"
     ]
    }
   ],
   "source": [
    "for i in range(BD_VU.shape[0]):\n",
    "    for j in range(BD_VU.shape[1]):\n",
    "\n",
    "        if i == 0:\n",
    "            BDrent_diaria.iloc[i,j] = 0\n",
    "        else:\n",
    "            BDrent_diaria.iloc[i,j] = rent_diaria(BD_VU.iloc[i-1,j],BD_VU.iloc[i,j])"
   ]
  },
  {
   "cell_type": "code",
   "execution_count": 21,
   "metadata": {},
   "outputs": [],
   "source": [
    "BDrent_diaria = BDrent_diaria.replace([np.inf,-np.inf],np.nan)\n",
    "BDrent_diaria = BDrent_diaria.fillna(0)\n",
    "BDrent_diaria.to_excel(RutaPeers+\"BD_rentdiaria.xlsx\",index=True)"
   ]
  },
  {
   "cell_type": "code",
   "execution_count": 22,
   "metadata": {},
   "outputs": [
    {
     "data": {
      "text/plain": [
       "0     FICS SIN PACTO DE PERMANENCIA ACCIVAL ACCIONES...\n",
       "1     FONDO DE INVERSION COLECTIVA ABIERTO CON PACTO...\n",
       "2     FONDO DE INVERSIÓN COLECTIVA ABIERTO BTG PACTU...\n",
       "3                   CREDICORP CAPITAL ACCIONES COLOMBIA\n",
       "4     FONDO DE INVERSIÓN COLECTIVA ABIERTO RENTA ACC...\n",
       "                            ...                        \n",
       "63    Fondo de Inversion Colectiva Abierto con Pacto...\n",
       "64      Fondo de inversión Colectiva Skandia Multiplazo\n",
       "65    FONDO DE INVERSION COLECTIVA ABIERTO RENTA FIJ...\n",
       "66    FONDO DE INVERSION COLECTIVA ABIERTO RENTA LIQ...\n",
       "67               FONDO DE INVERSION COLECTIVA SUPERIOR \n",
       "Name: Nombre Negocio en SIF, Length: 68, dtype: object"
      ]
     },
     "execution_count": 22,
     "metadata": {},
     "output_type": "execute_result"
    }
   ],
   "source": [
    "BDpeers"
   ]
  },
  {
   "cell_type": "code",
   "execution_count": 23,
   "metadata": {},
   "outputs": [],
   "source": [
    "#filtro por fin de mes#\n",
    "#BDinformedefSIF= BDinformeSIF[BDinformeSIF[\"Fecha corte\"].isin(BDfechas)]\n",
    "#BDinformedefSIF.to_excel(RutaPeers+\"BDSIF.xlsx\",index=False)\n",
    "#BDinformedefFPV= BDinformeFPV[BDinformeFPV[\"FECHA_CORTE\"].isin(BDfechas)]\n"
   ]
  },
  {
   "cell_type": "code",
   "execution_count": null,
   "metadata": {},
   "outputs": [],
   "source": []
  }
 ],
 "metadata": {
  "kernelspec": {
   "display_name": "Python 3 (ipykernel)",
   "language": "python",
   "name": "python3"
  },
  "language_info": {
   "codemirror_mode": {
    "name": "ipython",
    "version": 3
   },
   "file_extension": ".py",
   "mimetype": "text/x-python",
   "name": "python",
   "nbconvert_exporter": "python",
   "pygments_lexer": "ipython3",
   "version": "3.10.9"
  }
 },
 "nbformat": 4,
 "nbformat_minor": 2
}
