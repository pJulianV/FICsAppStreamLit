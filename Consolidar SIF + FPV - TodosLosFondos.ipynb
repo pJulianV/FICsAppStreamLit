{
 "cells": [
  {
   "cell_type": "code",
   "execution_count": 1,
   "metadata": {},
   "outputs": [],
   "source": [
    "import shutil\n",
    "import numpy as np                                                     #Algebra lineal\n",
    "import pandas as pd                                                    #Manejo de excel\n",
    "from datetime import datetime                                          #Fechas\n",
    "from dateutil.relativedelta import relativedelta                       #Retornos\n",
    "from datetime import timedelta                                         #Manejo de fechas\n",
    "import win32com.client                                              #especificaciones de office\n",
    "import os                                                              #working directory\n",
    "import glob                                                            #enumerar archivos en ruta\n",
    "from datetime import date, datetime, time\n",
    "from babel.dates import format_date, format_datetime, format_time\n",
    "import time\n",
    "import locale\n",
    "import win32com.client\n",
    "import subprocess\n",
    "import sys\n",
    "from pandas import DataFrame\n",
    "import xlrd\n",
    "import os.path, time\n",
    "from openpyxl import load_workbook\n",
    "import pandas\n",
    "import PySimpleGUI as sg\n",
    "import getpass\n",
    "from tkinter import messagebox\n",
    "from openpyxl import load_workbook\n",
    "from collections import Counter\n",
    "import matplotlib.pyplot as plt\n",
    "import math\n",
    "import plotly.express as px\n",
    "import os\n",
    "from openpyxl import load_workbook\n",
    "from datetime import datetime\n",
    "import datetime, calendar\n",
    "from pandas.tseries.offsets import MonthEnd\n",
    "import getpass"
   ]
  },
  {
   "cell_type": "code",
   "execution_count": 2,
   "metadata": {},
   "outputs": [],
   "source": [
    "#RUTAS#\n",
    "#C:\\Users\\JULIAVAR\\OneDrive - Grupo Bancolombia\\Workspace\\PruebaStreamLit\n",
    "RutaPeers = \"C:/Users/JULIAVAR/OneDrive - Grupo Bancolombia/Workspace/FICsAppStreamLit/FONDOS DE INVERSION/INFORME DE COMPETENCIA/\"\n",
    "RutaSIF = \"C:/Users/JULIAVAR/OneDrive - Grupo Bancolombia/Workspace/FICsAppStreamLit/FONDOS DE INVERSION/SUPERINTENDENCIA/\"\n",
    "RutaFPV = \"C:/Users/JULIAVAR/OneDrive - Grupo Bancolombia/Workspace/FICsAppStreamLit/FONDOS DE INVERSION/PENSIONES VOLUNTARIAS/\"\n",
    "\n",
    "RutaAssetClass= \"C:/Users/JULIAVAR/OneDrive - Grupo Bancolombia/Workspace/FICsAppStreamLit/MARKET SHARE/\"\n"
   ]
  },
  {
   "cell_type": "code",
   "execution_count": 3,
   "metadata": {},
   "outputs": [
    {
     "name": "stdout",
     "output_type": "stream",
     "text": [
      "['2018', '2019', '2020', '2021', '2022', '2023']\n"
     ]
    }
   ],
   "source": [
    "#AÑOS#\n",
    "from datetime import datetime\n",
    "now = datetime.now()\n",
    "año_final = now.year\n",
    "año_inicial =año_final-5\n",
    "\n",
    "lista_fechas = [str(año_inicial),str(año_inicial+1),str(año_inicial+2),str(año_inicial+3),str(año_inicial+4),str(año_inicial+5)]\n",
    "print(lista_fechas)\n"
   ]
  },
  {
   "cell_type": "code",
   "execution_count": 5,
   "metadata": {},
   "outputs": [
    {
     "name": "stdout",
     "output_type": "stream",
     "text": [
      "SIF_BD_2018.xlsx\n",
      "SIF_BD_2019.xlsx\n",
      "SIF_BD_2020.xlsx\n",
      "SIF_BD_2021.xlsx\n",
      "SIF_BD_2022.xlsx\n",
      "SIF_BD_2023.xlsx\n"
     ]
    }
   ],
   "source": [
    "#uno las 6 bases de datos de las superintendencia para tener historia#\n",
    "basecompletaSIF=pd.DataFrame()\n",
    "\n",
    "for i in range(0,len(lista_fechas)):\n",
    "        consolidado = pd.read_excel(RutaSIF+\"SIF_BD_\"+ lista_fechas[i] +\".xlsx\")\n",
    "        consolidado1 = consolidado[[\"concatenar\",\"Fecha corte\",\"Nombre Entidad\",\"Nombre Negocio\",\"Valor unidad para las operaciones del día t\",\"Valor fondo al cierre del día t\",\"Núm. Invers.\"]]\n",
    "        \n",
    "#        outputxlsx = pd.concat([outputxlsx, df], ignore_index=True)\n",
    "#        outputxlsx = outputxlsx.append(df, ignore_index=True)\n",
    "\n",
    "        basecompletaSIF=pd.concat([basecompletaSIF, consolidado1],ignore_index=True)        \n",
    "#        basecompletaSIF=basecompletaSIF.append(consolidado1,ignore_index=True)\n",
    "        print(\"SIF_BD_\"+ lista_fechas[i]+\".xlsx\")"
   ]
  },
  {
   "cell_type": "code",
   "execution_count": 6,
   "metadata": {
    "scrolled": true
   },
   "outputs": [
    {
     "name": "stdout",
     "output_type": "stream",
     "text": [
      "FPV 2018.xlsx\n",
      "FPV 2019.xlsx\n",
      "FPV 2020.xlsx\n",
      "FPV 2021.xlsx\n",
      "FPV 2022.xlsx\n",
      "FPV 2023.xlsx\n"
     ]
    },
    {
     "data": {
      "text/html": [
       "<div>\n",
       "<style scoped>\n",
       "    .dataframe tbody tr th:only-of-type {\n",
       "        vertical-align: middle;\n",
       "    }\n",
       "\n",
       "    .dataframe tbody tr th {\n",
       "        vertical-align: top;\n",
       "    }\n",
       "\n",
       "    .dataframe thead th {\n",
       "        text-align: right;\n",
       "    }\n",
       "</style>\n",
       "<table border=\"1\" class=\"dataframe\">\n",
       "  <thead>\n",
       "    <tr style=\"text-align: right;\">\n",
       "      <th></th>\n",
       "      <th>FECHA_CORTE</th>\n",
       "      <th>NOMBRE_ENTIDAD</th>\n",
       "      <th>NOMBRE_PATRIMONIO</th>\n",
       "      <th>VALOR_UNIDAD_OPERACIONES_DIA_T_VALOR_PESOS</th>\n",
       "      <th>VALOR_FONDO_CIERRE_DIA_T_ANTERIOR_N_UNIDADES</th>\n",
       "    </tr>\n",
       "  </thead>\n",
       "  <tbody>\n",
       "    <tr>\n",
       "      <th>0</th>\n",
       "      <td>2018-01-01</td>\n",
       "      <td>Alianza Fiduciaria S.A.</td>\n",
       "      <td>FONDO DE PENSIONES DE JUBILACION E INVALIDEZ V...</td>\n",
       "      <td>18686.46</td>\n",
       "      <td>2.470127e+07</td>\n",
       "    </tr>\n",
       "    <tr>\n",
       "      <th>1</th>\n",
       "      <td>2018-01-01</td>\n",
       "      <td>Alianza Fiduciaria S.A.</td>\n",
       "      <td>ACCIONES ECOPETROL</td>\n",
       "      <td>16154.10</td>\n",
       "      <td>4.060950e+03</td>\n",
       "    </tr>\n",
       "    <tr>\n",
       "      <th>2</th>\n",
       "      <td>2018-01-01</td>\n",
       "      <td>Alianza Fiduciaria S.A.</td>\n",
       "      <td>OPCION ACTIVOS INMOBILIARIOS DLLE</td>\n",
       "      <td>7627.19</td>\n",
       "      <td>6.169799e+04</td>\n",
       "    </tr>\n",
       "    <tr>\n",
       "      <th>3</th>\n",
       "      <td>2018-01-01</td>\n",
       "      <td>Alianza Fiduciaria S.A.</td>\n",
       "      <td>PARTE COMUN</td>\n",
       "      <td>26912.22</td>\n",
       "      <td>1.159263e+07</td>\n",
       "    </tr>\n",
       "    <tr>\n",
       "      <th>4</th>\n",
       "      <td>2018-01-01</td>\n",
       "      <td>Alianza Fiduciaria S.A.</td>\n",
       "      <td>OPCION CERRADA PENSIONALES 5 COLOMIBA</td>\n",
       "      <td>26146.75</td>\n",
       "      <td>2.169110e+03</td>\n",
       "    </tr>\n",
       "    <tr>\n",
       "      <th>...</th>\n",
       "      <td>...</td>\n",
       "      <td>...</td>\n",
       "      <td>...</td>\n",
       "      <td>...</td>\n",
       "      <td>...</td>\n",
       "    </tr>\n",
       "    <tr>\n",
       "      <th>804016</th>\n",
       "      <td>2023-06-16</td>\n",
       "      <td>Fiduciaria Davivienda S.A. Pudiendo Utilizar L...</td>\n",
       "      <td>DAFUTURO TRANSITO DOLAR</td>\n",
       "      <td>71613.50</td>\n",
       "      <td>1.441600e+02</td>\n",
       "    </tr>\n",
       "    <tr>\n",
       "      <th>804017</th>\n",
       "      <td>2023-06-16</td>\n",
       "      <td>Proteccion</td>\n",
       "      <td>FONDO DE PENSIONES SMURFIT DE COLOMBIA</td>\n",
       "      <td>61020.77</td>\n",
       "      <td>1.395198e+06</td>\n",
       "    </tr>\n",
       "    <tr>\n",
       "      <th>804018</th>\n",
       "      <td>2023-06-16</td>\n",
       "      <td>Porvenir</td>\n",
       "      <td>FONDO VOLUNTARIO DE PENSIÓN PORVENIR</td>\n",
       "      <td>12835.03</td>\n",
       "      <td>3.944046e+08</td>\n",
       "    </tr>\n",
       "    <tr>\n",
       "      <th>804019</th>\n",
       "      <td>2023-06-16</td>\n",
       "      <td>Alianza Fiduciaria S.A.</td>\n",
       "      <td>PORTAFOLIO RENTA FIJA LOCAL 1 AÑO</td>\n",
       "      <td>10852.42</td>\n",
       "      <td>2.537602e+06</td>\n",
       "    </tr>\n",
       "    <tr>\n",
       "      <th>804020</th>\n",
       "      <td>2023-06-16</td>\n",
       "      <td>Allianz Seguros De Vida S.A.</td>\n",
       "      <td>ACCIONES GLOBAL ESG</td>\n",
       "      <td>12280.62</td>\n",
       "      <td>2.772851e+05</td>\n",
       "    </tr>\n",
       "  </tbody>\n",
       "</table>\n",
       "<p>804021 rows × 5 columns</p>\n",
       "</div>"
      ],
      "text/plain": [
       "       FECHA_CORTE                                     NOMBRE_ENTIDAD  \\\n",
       "0       2018-01-01                            Alianza Fiduciaria S.A.   \n",
       "1       2018-01-01                            Alianza Fiduciaria S.A.   \n",
       "2       2018-01-01                            Alianza Fiduciaria S.A.   \n",
       "3       2018-01-01                            Alianza Fiduciaria S.A.   \n",
       "4       2018-01-01                            Alianza Fiduciaria S.A.   \n",
       "...            ...                                                ...   \n",
       "804016  2023-06-16  Fiduciaria Davivienda S.A. Pudiendo Utilizar L...   \n",
       "804017  2023-06-16                                         Proteccion   \n",
       "804018  2023-06-16                                           Porvenir   \n",
       "804019  2023-06-16                            Alianza Fiduciaria S.A.   \n",
       "804020  2023-06-16                       Allianz Seguros De Vida S.A.   \n",
       "\n",
       "                                        NOMBRE_PATRIMONIO  \\\n",
       "0       FONDO DE PENSIONES DE JUBILACION E INVALIDEZ V...   \n",
       "1                                      ACCIONES ECOPETROL   \n",
       "2                       OPCION ACTIVOS INMOBILIARIOS DLLE   \n",
       "3                                             PARTE COMUN   \n",
       "4                   OPCION CERRADA PENSIONALES 5 COLOMIBA   \n",
       "...                                                   ...   \n",
       "804016                            DAFUTURO TRANSITO DOLAR   \n",
       "804017             FONDO DE PENSIONES SMURFIT DE COLOMBIA   \n",
       "804018               FONDO VOLUNTARIO DE PENSIÓN PORVENIR   \n",
       "804019                  PORTAFOLIO RENTA FIJA LOCAL 1 AÑO   \n",
       "804020                                ACCIONES GLOBAL ESG   \n",
       "\n",
       "        VALOR_UNIDAD_OPERACIONES_DIA_T_VALOR_PESOS  \\\n",
       "0                                         18686.46   \n",
       "1                                         16154.10   \n",
       "2                                          7627.19   \n",
       "3                                         26912.22   \n",
       "4                                         26146.75   \n",
       "...                                            ...   \n",
       "804016                                    71613.50   \n",
       "804017                                    61020.77   \n",
       "804018                                    12835.03   \n",
       "804019                                    10852.42   \n",
       "804020                                    12280.62   \n",
       "\n",
       "        VALOR_FONDO_CIERRE_DIA_T_ANTERIOR_N_UNIDADES  \n",
       "0                                       2.470127e+07  \n",
       "1                                       4.060950e+03  \n",
       "2                                       6.169799e+04  \n",
       "3                                       1.159263e+07  \n",
       "4                                       2.169110e+03  \n",
       "...                                              ...  \n",
       "804016                                  1.441600e+02  \n",
       "804017                                  1.395198e+06  \n",
       "804018                                  3.944046e+08  \n",
       "804019                                  2.537602e+06  \n",
       "804020                                  2.772851e+05  \n",
       "\n",
       "[804021 rows x 5 columns]"
      ]
     },
     "execution_count": 6,
     "metadata": {},
     "output_type": "execute_result"
    }
   ],
   "source": [
    "#uno las 6 bases de datos de los fondos de pensiones voluntarias para tener historia#\n",
    "basecompletaFPV=pd.DataFrame()\n",
    "\n",
    "for i in range(0,len(lista_fechas)):\n",
    "        consolidado = pd.read_excel(RutaFPV+\"FPV \"+ lista_fechas[i] +\".xlsx\")\n",
    "        consolidado1 = consolidado[[\"FECHA_CORTE\",\"NOMBRE_ENTIDAD\",\"NOMBRE_PATRIMONIO\",\"VALOR_UNIDAD_OPERACIONES_DIA_T_VALOR_PESOS\",\"VALOR_FONDO_CIERRE_DIA_T_ANTERIOR_N_UNIDADES\"]]\n",
    "                \n",
    "    \n",
    "        basecompletaFPV=pd.concat([basecompletaFPV, consolidado1],ignore_index=True)\n",
    "#        basecompletaFPV=basecompletaFPV.append(consolidado1,ignore_index=True)\n",
    "        print(\"FPV \"+ lista_fechas[i]+\".xlsx\")\n",
    "basecompletaFPV"
   ]
  },
  {
   "cell_type": "code",
   "execution_count": 7,
   "metadata": {},
   "outputs": [],
   "source": [
    "#leo la base que contiene la lista de fondos a incluir en el informe#\n",
    "\n",
    "# ! Solo 70\n",
    "# BDpeers = pd.read_excel(RutaPeers+\"LISTA DE FONDOS.xlsx\")\n",
    "# BDpeers = BDpeers[\"Nombre Negocio en SIF\"]\n",
    "\n",
    "# ! Todos los fondos SIF 2023\n",
    "\n",
    "\n",
    "BDpeers = pd.read_excel(RutaSIF +\"SIF_BD_2023.xlsx\")\n",
    "BDpeers = BDpeers.drop_duplicates(subset=[\"Nombre Negocio\"], keep='first')\n",
    "BDpeers = BDpeers[\"Nombre Negocio\"]\n"
   ]
  },
  {
   "cell_type": "code",
   "execution_count": 8,
   "metadata": {},
   "outputs": [
    {
     "data": {
      "text/plain": [
       "0                      CARTERA COLECTIVA ABIERTA ACCION UNO\n",
       "178                   FONDO DE INVERSION COLECTIVA ABIERTO \n",
       "712       FONDO DE INVERSIÓN COLECTIVA ABIERTO SIN PACTO...\n",
       "890                                  ACCIVAL RENTA FIJA 180\n",
       "1066      FICS SIN PACTO DE PERMANENCIA ACCIVAL ACCIONES...\n",
       "                                ...                        \n",
       "152203    FONDO DE INVERSION COLECTIVA ABIERTO RENTA FIJ...\n",
       "152559    FONDO DE INVERSION COLECTIVA ABIERTO RENTA FUTURO\n",
       "152915    FONDO DE INVERSION COLECTIVA ABIERTO RENTA LIQ...\n",
       "153983    FONDO DE INVERSION COLECTIVA ABIERTO RENTA SOS...\n",
       "154339    FONDO DE INVERSION COLECTIVA ABIERTO RENTA VAR...\n",
       "Name: Nombre Negocio, Length: 426, dtype: object"
      ]
     },
     "execution_count": 8,
     "metadata": {},
     "output_type": "execute_result"
    }
   ],
   "source": [
    "BDpeers"
   ]
  },
  {
   "cell_type": "code",
   "execution_count": 9,
   "metadata": {},
   "outputs": [],
   "source": [
    "#leo la base de datos de asset class y exporto los fondos que necesito#\n",
    "BDassetclass = pd.read_excel(RutaAssetClass+\"BD ASSET CLASS.xlsx\")\n",
    "BDassetclass = BDassetclass[[\"concatenar\",\"Nombre Entidad\",\"Nombre Negocio\",\"ASSET CLASS\",\"Tipo de participación\",\"explicación tipo de cliente\"]]\n",
    "BDassetclass = BDassetclass[BDassetclass[\"Nombre Negocio\"].isin(BDpeers)]\n"
   ]
  },
  {
   "cell_type": "markdown",
   "metadata": {},
   "source": [
    "#Prueba"
   ]
  },
  {
   "cell_type": "code",
   "execution_count": 10,
   "metadata": {},
   "outputs": [],
   "source": [
    "BDassetclass.to_excel(RutaPeers+\"BDAssetClass.xlsx\",index=False)"
   ]
  },
  {
   "cell_type": "code",
   "execution_count": 11,
   "metadata": {},
   "outputs": [],
   "source": [
    "#filtro las bases, por los fondos que tengo en el numeral anterior#\n",
    "BDinformeSIF = basecompletaSIF[basecompletaSIF[\"Nombre Negocio\"].isin(BDpeers)]\n",
    "BDinformeFPV = basecompletaFPV[basecompletaFPV[\"NOMBRE_PATRIMONIO\"].isin(BDpeers)]"
   ]
  },
  {
   "cell_type": "code",
   "execution_count": 12,
   "metadata": {},
   "outputs": [
    {
     "data": {
      "text/html": [
       "<div>\n",
       "<style scoped>\n",
       "    .dataframe tbody tr th:only-of-type {\n",
       "        vertical-align: middle;\n",
       "    }\n",
       "\n",
       "    .dataframe tbody tr th {\n",
       "        vertical-align: top;\n",
       "    }\n",
       "\n",
       "    .dataframe thead th {\n",
       "        text-align: right;\n",
       "    }\n",
       "</style>\n",
       "<table border=\"1\" class=\"dataframe\">\n",
       "  <thead>\n",
       "    <tr style=\"text-align: right;\">\n",
       "      <th></th>\n",
       "      <th>concatenar</th>\n",
       "      <th>Fecha corte</th>\n",
       "      <th>Nombre Entidad</th>\n",
       "      <th>Nombre Negocio</th>\n",
       "      <th>Valor unidad para las operaciones del día t</th>\n",
       "      <th>Valor fondo al cierre del día t</th>\n",
       "      <th>Núm. Invers.</th>\n",
       "    </tr>\n",
       "  </thead>\n",
       "  <tbody>\n",
       "    <tr>\n",
       "      <th>219</th>\n",
       "      <td>FIDUCIARIA DAVIVIENDAFONDO DE INVERSION COLECT...</td>\n",
       "      <td>2018-01-01</td>\n",
       "      <td>FIDUCIARIA DAVIVIENDA</td>\n",
       "      <td>FONDO DE INVERSION COLECTIVA SUPERIOR</td>\n",
       "      <td>7323.18</td>\n",
       "      <td>9.080573e+09</td>\n",
       "      <td>6</td>\n",
       "    </tr>\n",
       "    <tr>\n",
       "      <th>220</th>\n",
       "      <td>FIDUCIARIA DAVIVIENDAFONDO DE INVERSION COLECT...</td>\n",
       "      <td>2018-01-01</td>\n",
       "      <td>FIDUCIARIA DAVIVIENDA</td>\n",
       "      <td>FONDO DE INVERSION COLECTIVA SUPERIOR</td>\n",
       "      <td>7247.23</td>\n",
       "      <td>2.735704e+10</td>\n",
       "      <td>5</td>\n",
       "    </tr>\n",
       "    <tr>\n",
       "      <th>221</th>\n",
       "      <td>FIDUCIARIA DAVIVIENDAFONDO DE INVERSION COLECT...</td>\n",
       "      <td>2018-01-01</td>\n",
       "      <td>FIDUCIARIA DAVIVIENDA</td>\n",
       "      <td>FONDO DE INVERSION COLECTIVA SUPERIOR</td>\n",
       "      <td>6810.88</td>\n",
       "      <td>7.875242e+10</td>\n",
       "      <td>3</td>\n",
       "    </tr>\n",
       "    <tr>\n",
       "      <th>222</th>\n",
       "      <td>FIDUCIARIA DAVIVIENDAFONDO DE INVERSION COLECT...</td>\n",
       "      <td>2018-01-01</td>\n",
       "      <td>FIDUCIARIA DAVIVIENDA</td>\n",
       "      <td>FONDO DE INVERSION COLECTIVA SUPERIOR</td>\n",
       "      <td>7359.88</td>\n",
       "      <td>9.500914e+10</td>\n",
       "      <td>44</td>\n",
       "    </tr>\n",
       "    <tr>\n",
       "      <th>223</th>\n",
       "      <td>FIDUCIARIA DAVIVIENDAFONDO DE INVERSION COLECT...</td>\n",
       "      <td>2018-01-01</td>\n",
       "      <td>FIDUCIARIA DAVIVIENDA</td>\n",
       "      <td>FONDO DE INVERSION COLECTIVA SUPERIOR</td>\n",
       "      <td>7289.94</td>\n",
       "      <td>1.186791e+11</td>\n",
       "      <td>147</td>\n",
       "    </tr>\n",
       "    <tr>\n",
       "      <th>...</th>\n",
       "      <td>...</td>\n",
       "      <td>...</td>\n",
       "      <td>...</td>\n",
       "      <td>...</td>\n",
       "      <td>...</td>\n",
       "      <td>...</td>\n",
       "      <td>...</td>\n",
       "    </tr>\n",
       "    <tr>\n",
       "      <th>1148827</th>\n",
       "      <td>FIDUCIARIA DAVIVIENDAFONDO DE INVERSION COLECT...</td>\n",
       "      <td>2023-06-23</td>\n",
       "      <td>FIDUCIARIA DAVIVIENDA</td>\n",
       "      <td>FONDO DE INVERSION COLECTIVA SUPERIOR</td>\n",
       "      <td>9620.49</td>\n",
       "      <td>8.148342e+10</td>\n",
       "      <td>31</td>\n",
       "    </tr>\n",
       "    <tr>\n",
       "      <th>1148828</th>\n",
       "      <td>FIDUCIARIA DAVIVIENDAFONDO DE INVERSION COLECT...</td>\n",
       "      <td>2023-06-24</td>\n",
       "      <td>FIDUCIARIA DAVIVIENDA</td>\n",
       "      <td>FONDO DE INVERSION COLECTIVA SUPERIOR</td>\n",
       "      <td>9623.69</td>\n",
       "      <td>8.151056e+10</td>\n",
       "      <td>31</td>\n",
       "    </tr>\n",
       "    <tr>\n",
       "      <th>1148829</th>\n",
       "      <td>FIDUCIARIA DAVIVIENDAFONDO DE INVERSION COLECT...</td>\n",
       "      <td>2023-06-25</td>\n",
       "      <td>FIDUCIARIA DAVIVIENDA</td>\n",
       "      <td>FONDO DE INVERSION COLECTIVA SUPERIOR</td>\n",
       "      <td>9626.89</td>\n",
       "      <td>8.153768e+10</td>\n",
       "      <td>31</td>\n",
       "    </tr>\n",
       "    <tr>\n",
       "      <th>1148830</th>\n",
       "      <td>FIDUCIARIA DAVIVIENDAFONDO DE INVERSION COLECT...</td>\n",
       "      <td>2023-06-26</td>\n",
       "      <td>FIDUCIARIA DAVIVIENDA</td>\n",
       "      <td>FONDO DE INVERSION COLECTIVA SUPERIOR</td>\n",
       "      <td>9630.02</td>\n",
       "      <td>8.146416e+10</td>\n",
       "      <td>31</td>\n",
       "    </tr>\n",
       "    <tr>\n",
       "      <th>1148831</th>\n",
       "      <td>FIDUCIARIA DAVIVIENDAFONDO DE INVERSION COLECT...</td>\n",
       "      <td>2023-06-27</td>\n",
       "      <td>FIDUCIARIA DAVIVIENDA</td>\n",
       "      <td>FONDO DE INVERSION COLECTIVA SUPERIOR</td>\n",
       "      <td>9632.04</td>\n",
       "      <td>6.946325e+10</td>\n",
       "      <td>31</td>\n",
       "    </tr>\n",
       "  </tbody>\n",
       "</table>\n",
       "<p>14034 rows × 7 columns</p>\n",
       "</div>"
      ],
      "text/plain": [
       "                                                concatenar Fecha corte  \\\n",
       "219      FIDUCIARIA DAVIVIENDAFONDO DE INVERSION COLECT...  2018-01-01   \n",
       "220      FIDUCIARIA DAVIVIENDAFONDO DE INVERSION COLECT...  2018-01-01   \n",
       "221      FIDUCIARIA DAVIVIENDAFONDO DE INVERSION COLECT...  2018-01-01   \n",
       "222      FIDUCIARIA DAVIVIENDAFONDO DE INVERSION COLECT...  2018-01-01   \n",
       "223      FIDUCIARIA DAVIVIENDAFONDO DE INVERSION COLECT...  2018-01-01   \n",
       "...                                                    ...         ...   \n",
       "1148827  FIDUCIARIA DAVIVIENDAFONDO DE INVERSION COLECT...  2023-06-23   \n",
       "1148828  FIDUCIARIA DAVIVIENDAFONDO DE INVERSION COLECT...  2023-06-24   \n",
       "1148829  FIDUCIARIA DAVIVIENDAFONDO DE INVERSION COLECT...  2023-06-25   \n",
       "1148830  FIDUCIARIA DAVIVIENDAFONDO DE INVERSION COLECT...  2023-06-26   \n",
       "1148831  FIDUCIARIA DAVIVIENDAFONDO DE INVERSION COLECT...  2023-06-27   \n",
       "\n",
       "                Nombre Entidad                          Nombre Negocio  \\\n",
       "219      FIDUCIARIA DAVIVIENDA  FONDO DE INVERSION COLECTIVA SUPERIOR    \n",
       "220      FIDUCIARIA DAVIVIENDA  FONDO DE INVERSION COLECTIVA SUPERIOR    \n",
       "221      FIDUCIARIA DAVIVIENDA  FONDO DE INVERSION COLECTIVA SUPERIOR    \n",
       "222      FIDUCIARIA DAVIVIENDA  FONDO DE INVERSION COLECTIVA SUPERIOR    \n",
       "223      FIDUCIARIA DAVIVIENDA  FONDO DE INVERSION COLECTIVA SUPERIOR    \n",
       "...                        ...                                     ...   \n",
       "1148827  FIDUCIARIA DAVIVIENDA  FONDO DE INVERSION COLECTIVA SUPERIOR    \n",
       "1148828  FIDUCIARIA DAVIVIENDA  FONDO DE INVERSION COLECTIVA SUPERIOR    \n",
       "1148829  FIDUCIARIA DAVIVIENDA  FONDO DE INVERSION COLECTIVA SUPERIOR    \n",
       "1148830  FIDUCIARIA DAVIVIENDA  FONDO DE INVERSION COLECTIVA SUPERIOR    \n",
       "1148831  FIDUCIARIA DAVIVIENDA  FONDO DE INVERSION COLECTIVA SUPERIOR    \n",
       "\n",
       "         Valor unidad para las operaciones del día t  \\\n",
       "219                                          7323.18   \n",
       "220                                          7247.23   \n",
       "221                                          6810.88   \n",
       "222                                          7359.88   \n",
       "223                                          7289.94   \n",
       "...                                              ...   \n",
       "1148827                                      9620.49   \n",
       "1148828                                      9623.69   \n",
       "1148829                                      9626.89   \n",
       "1148830                                      9630.02   \n",
       "1148831                                      9632.04   \n",
       "\n",
       "         Valor fondo al cierre del día t  Núm. Invers.  \n",
       "219                         9.080573e+09             6  \n",
       "220                         2.735704e+10             5  \n",
       "221                         7.875242e+10             3  \n",
       "222                         9.500914e+10            44  \n",
       "223                         1.186791e+11           147  \n",
       "...                                  ...           ...  \n",
       "1148827                     8.148342e+10            31  \n",
       "1148828                     8.151056e+10            31  \n",
       "1148829                     8.153768e+10            31  \n",
       "1148830                     8.146416e+10            31  \n",
       "1148831                     6.946325e+10            31  \n",
       "\n",
       "[14034 rows x 7 columns]"
      ]
     },
     "execution_count": 12,
     "metadata": {},
     "output_type": "execute_result"
    }
   ],
   "source": [
    "BDassetclassprueba=basecompletaSIF[(basecompletaSIF['Nombre Negocio']==\"FONDO DE INVERSION COLECTIVA SUPERIOR \" )]\n",
    "BDassetclassprueba"
   ]
  },
  {
   "cell_type": "code",
   "execution_count": 13,
   "metadata": {},
   "outputs": [],
   "source": [
    "#creo columnas para que las matrices tengan el mismo tamaño#\n",
    "BDinformeFPV.insert(0,'concatenar',\"\")\n",
    "BDinformeFPV['concatenar'] = BDinformeFPV['NOMBRE_PATRIMONIO']\n",
    "BDinformeFPV[\"Núm. Invers.\"] = \"\""
   ]
  },
  {
   "cell_type": "code",
   "execution_count": 14,
   "metadata": {},
   "outputs": [],
   "source": [
    "#cambio el nombre de las columnas#\n",
    "BDinformeFPV.columns = [\"concatenar\",\"Fecha corte\",\"Nombre Entidad\",\"Nombre Negocio\",\"Valor unidad para las operaciones del día t\",\"Valor fondo al cierre del día t\",\"Núm. Invers.\"]\n",
    "#BDinformedefFPV.to_excel(RutaPeers+\"BDFPV.xlsx\",index=False)"
   ]
  },
  {
   "cell_type": "code",
   "execution_count": 16,
   "metadata": {},
   "outputs": [],
   "source": [
    "#exporto la base definitiva#\n",
    "\n",
    "#        outputxlsx = pd.concat([outputxlsx, df], ignore_index=True)\n",
    "#        outputxlsx = outputxlsx.append(df, ignore_index=True)\n",
    "\n",
    "\n",
    "BDTotal=pd.concat([BDinformeSIF, BDinformeFPV],ignore_index=True)\n",
    "BDTotal.sort_values(['concatenar','Fecha corte'])\n",
    "BDTotal.to_excel(RutaPeers+\"BDTotal.xlsx\",index=False)"
   ]
  },
  {
   "cell_type": "code",
   "execution_count": 17,
   "metadata": {},
   "outputs": [],
   "source": [
    "#contruyo base de datos con valores de unidad por fondo#\n",
    "\n",
    "BD_VU = BDTotal.pivot_table(index='Fecha corte'\n",
    "                             ,values='Valor unidad para las operaciones del día t'\n",
    "                             ,columns=['concatenar']\n",
    "                             ,aggfunc='sum')\n",
    "\n",
    "#BD_VU.head(2)\n"
   ]
  },
  {
   "cell_type": "code",
   "execution_count": 18,
   "metadata": {},
   "outputs": [
    {
     "name": "stdout",
     "output_type": "stream",
     "text": [
      "<class 'pandas.core.frame.DataFrame'>\n"
     ]
    }
   ],
   "source": [
    "print(type(BD_VU))\n",
    "BD_VU = BD_VU.fillna(0)\n",
    "BD_VU.to_excel(RutaPeers+\"BD_VU.xlsx\",index=True)"
   ]
  },
  {
   "cell_type": "code",
   "execution_count": 19,
   "metadata": {},
   "outputs": [],
   "source": [
    "#len(BD_VU)"
   ]
  },
  {
   "cell_type": "code",
   "execution_count": 20,
   "metadata": {},
   "outputs": [],
   "source": [
    "def rent_diaria(a,b):\n",
    "    try:\n",
    "        res=(b/a)-1\n",
    "    except:\n",
    "        res=(np.nan)\n",
    "    return res"
   ]
  },
  {
   "cell_type": "code",
   "execution_count": 21,
   "metadata": {},
   "outputs": [],
   "source": [
    "BDrent_diaria = pd.DataFrame(\n",
    "    index = BD_VU.index.tolist(),\n",
    "    columns = BD_VU.columns.tolist())"
   ]
  },
  {
   "cell_type": "code",
   "execution_count": 22,
   "metadata": {
    "scrolled": true
   },
   "outputs": [
    {
     "name": "stderr",
     "output_type": "stream",
     "text": [
      "C:\\Users\\JULIAVAR\\AppData\\Local\\Temp\\ipykernel_1264\\1278336553.py:3: RuntimeWarning: invalid value encountered in double_scalars\n",
      "  res=(b/a)-1\n",
      "C:\\Users\\JULIAVAR\\AppData\\Local\\Temp\\ipykernel_1264\\1278336553.py:3: RuntimeWarning: divide by zero encountered in double_scalars\n",
      "  res=(b/a)-1\n"
     ]
    }
   ],
   "source": [
    "for i in range(BD_VU.shape[0]):\n",
    "    for j in range(BD_VU.shape[1]):\n",
    "\n",
    "        if i == 0:\n",
    "            BDrent_diaria.iloc[i,j] = 0\n",
    "        else:\n",
    "            BDrent_diaria.iloc[i,j] = rent_diaria(BD_VU.iloc[i-1,j],BD_VU.iloc[i,j])"
   ]
  },
  {
   "cell_type": "code",
   "execution_count": 23,
   "metadata": {},
   "outputs": [],
   "source": [
    "BDrent_diaria = BDrent_diaria.replace([np.inf,-np.inf],np.nan)\n",
    "BDrent_diaria = BDrent_diaria.fillna(0)\n",
    "BDrent_diaria.to_excel(RutaPeers+\"BD_rentdiaria.xlsx\",index=True)"
   ]
  },
  {
   "cell_type": "code",
   "execution_count": 24,
   "metadata": {},
   "outputs": [
    {
     "data": {
      "text/plain": [
       "0                      CARTERA COLECTIVA ABIERTA ACCION UNO\n",
       "178                   FONDO DE INVERSION COLECTIVA ABIERTO \n",
       "712       FONDO DE INVERSIÓN COLECTIVA ABIERTO SIN PACTO...\n",
       "890                                  ACCIVAL RENTA FIJA 180\n",
       "1066      FICS SIN PACTO DE PERMANENCIA ACCIVAL ACCIONES...\n",
       "                                ...                        \n",
       "152203    FONDO DE INVERSION COLECTIVA ABIERTO RENTA FIJ...\n",
       "152559    FONDO DE INVERSION COLECTIVA ABIERTO RENTA FUTURO\n",
       "152915    FONDO DE INVERSION COLECTIVA ABIERTO RENTA LIQ...\n",
       "153983    FONDO DE INVERSION COLECTIVA ABIERTO RENTA SOS...\n",
       "154339    FONDO DE INVERSION COLECTIVA ABIERTO RENTA VAR...\n",
       "Name: Nombre Negocio, Length: 426, dtype: object"
      ]
     },
     "execution_count": 24,
     "metadata": {},
     "output_type": "execute_result"
    }
   ],
   "source": [
    "BDpeers"
   ]
  },
  {
   "cell_type": "code",
   "execution_count": 25,
   "metadata": {},
   "outputs": [],
   "source": [
    "#filtro por fin de mes#\n",
    "#BDinformedefSIF= BDinformeSIF[BDinformeSIF[\"Fecha corte\"].isin(BDfechas)]\n",
    "#BDinformedefSIF.to_excel(RutaPeers+\"BDSIF.xlsx\",index=False)\n",
    "#BDinformedefFPV= BDinformeFPV[BDinformeFPV[\"FECHA_CORTE\"].isin(BDfechas)]\n"
   ]
  }
 ],
 "metadata": {
  "kernelspec": {
   "display_name": "Python 3 (ipykernel)",
   "language": "python",
   "name": "python3"
  },
  "language_info": {
   "codemirror_mode": {
    "name": "ipython",
    "version": 3
   },
   "file_extension": ".py",
   "mimetype": "text/x-python",
   "name": "python",
   "nbconvert_exporter": "python",
   "pygments_lexer": "ipython3",
   "version": "3.10.9"
  }
 },
 "nbformat": 4,
 "nbformat_minor": 2
}
