{
 "cells": [
  {
   "cell_type": "code",
   "execution_count": 1,
   "id": "d8a1bf61",
   "metadata": {},
   "outputs": [],
   "source": [
    "import numpy as np                                                     \n",
    "import pandas as pd\n",
    "import getpass"
   ]
  },
  {
   "cell_type": "code",
   "execution_count": 2,
   "id": "6b0bd3c5",
   "metadata": {},
   "outputs": [],
   "source": [
    "año=\"2022\""
   ]
  },
  {
   "cell_type": "code",
   "execution_count": 3,
   "id": "ddd5d767",
   "metadata": {},
   "outputs": [],
   "source": [
    "usuario=getpass.getuser()\n",
    "\n",
    "rutaarchivo='C:/Users/andcacer/Grupo Bancolombia/Gerencia Desarrollo Negocio - INFORMACION GENERAL ASSET MANAGEMENT/FONDOS DE INVERSION/Insumo/'\n",
    "rutaonedrive='C:/Users/andcacer/Grupo Bancolombia/Gerencia Desarrollo Negocio - INFORMACION GENERAL ASSET MANAGEMENT/FONDOS DE INVERSION/SUPERINTENDENCIA/'\n"
   ]
  },
  {
   "cell_type": "code",
   "execution_count": 4,
   "id": "b6bd642a",
   "metadata": {},
   "outputs": [],
   "source": [
    "#corroborar que el excel este bien arreglado para poder que el codigo lo detecte, \n",
    "#los que sean con valor convertirlos a numero y pasarlos a general\n",
    "reporte=pd.read_excel(rutaarchivo+\"reporteRentabilidades.xls\")\n",
    "#print(reporte)"
   ]
  },
  {
   "cell_type": "code",
   "execution_count": 5,
   "id": "35b2891a",
   "metadata": {
    "scrolled": true
   },
   "outputs": [],
   "source": [
    "#abrimos el reporte final\n",
    "archivofinal = pd.read_excel(rutaonedrive+\"SIF_BD_\"+año+\".xlsx\")"
   ]
  },
  {
   "cell_type": "code",
   "execution_count": 6,
   "id": "ed59a868",
   "metadata": {},
   "outputs": [],
   "source": [
    "#le pegamos lo que descargamos\n",
    "archivofinal=archivofinal.append(reporte,ignore_index=True)\n",
    "#archivofinal"
   ]
  },
  {
   "cell_type": "code",
   "execution_count": 7,
   "id": "4c148e00",
   "metadata": {},
   "outputs": [],
   "source": [
    "#convierto el valor del fondo y la fecha en string\n",
    "archivofinal[\"Fecha corte\"]=archivofinal[\"Fecha corte\"].apply(str)\n",
    "archivofinal[\"Valor fondo al cierre del día t\"]=archivofinal[\"Valor fondo al cierre del día t\"].apply(str)"
   ]
  },
  {
   "cell_type": "code",
   "execution_count": 8,
   "id": "95ca2a92",
   "metadata": {},
   "outputs": [],
   "source": [
    "\n",
    "archivofinal[\"duplicados\"] = archivofinal[\"Fecha corte\"] + archivofinal[\"concatenar\"] + archivofinal[\"Valor fondo al cierre del día t\"]\n",
    "#archivofinal"
   ]
  },
  {
   "cell_type": "code",
   "execution_count": 9,
   "id": "47b32d96",
   "metadata": {},
   "outputs": [],
   "source": [
    "BD_sin_duplicados = archivofinal.drop_duplicates(subset=[\"duplicados\"])\n",
    "#print(BD_sin_duplicados)"
   ]
  },
  {
   "cell_type": "code",
   "execution_count": 10,
   "id": "4daf5f48",
   "metadata": {},
   "outputs": [],
   "source": [
    "archivofinal = BD_sin_duplicados.drop(columns=['duplicados'])\n",
    "#print(archivofinal)"
   ]
  },
  {
   "cell_type": "code",
   "execution_count": 11,
   "id": "b99c3054",
   "metadata": {},
   "outputs": [],
   "source": [
    "#vuelvo a cambiar el class de las columnas\n",
    "#archivofinal[\"Fecha corte\"]=archivofinal[\"Fecha corte\"].apply(str)\n",
    "\n",
    "archivofinal[\"Valor fondo al cierre del día t\"]=archivofinal[\"Valor fondo al cierre del día t\"].astype(float)"
   ]
  },
  {
   "cell_type": "code",
   "execution_count": 12,
   "id": "e1810171",
   "metadata": {},
   "outputs": [],
   "source": [
    "#exportamos el archivo\n",
    "archivofinal.to_excel(rutaonedrive+\"SIF_BD_\"+año+\".xlsx\",index=False)"
   ]
  }
 ],
 "metadata": {
  "kernelspec": {
   "display_name": "Python 3 (ipykernel)",
   "language": "python",
   "name": "python3"
  },
  "language_info": {
   "codemirror_mode": {
    "name": "ipython",
    "version": 3
   },
   "file_extension": ".py",
   "mimetype": "text/x-python",
   "name": "python",
   "nbconvert_exporter": "python",
   "pygments_lexer": "ipython3",
   "version": "3.10.9"
  }
 },
 "nbformat": 4,
 "nbformat_minor": 5
}
